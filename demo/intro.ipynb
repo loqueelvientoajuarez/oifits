{
 "cells": [
  {
   "cell_type": "code",
   "execution_count": 1,
   "metadata": {},
   "outputs": [],
   "source": [
    "# propitiatory invocation (i.e. the user hasn't installed oifits as a package)\n",
    "import sys\n",
    "sys.path.append('..') \n",
    "\n",
    "import numpy as np"
   ]
  },
  {
   "cell_type": "markdown",
   "metadata": {},
   "source": [
    "## Opening OIFITS files"
   ]
  },
  {
   "cell_type": "markdown",
   "metadata": {},
   "source": [
    "We import the oifits module and open sample OIFITS files."
   ]
  },
  {
   "cell_type": "code",
   "execution_count": 2,
   "metadata": {},
   "outputs": [],
   "source": [
    "import pyoifits as oifits\n",
    "\n",
    "# OIFITS version 2 from GRAVITY @ VLTI\n",
    "gravity = oifits.open('test1.fits')\n",
    "# OIFITS version 1 from PIONIER @ VLTI\n",
    "pionier = oifits.open('test2.fits')\n",
    "\n",
    "# The GRAVITY pipeline produces a non-standard OI_FLUX table, we fix that.\n",
    "for h in gravity[8::4]:\n",
    "    h.rename_columns(FLUX='FLUXDATA')"
   ]
  },
  {
   "cell_type": "markdown",
   "metadata": {},
   "source": [
    "Verify the compliance to the standard and fix mendable issues."
   ]
  },
  {
   "cell_type": "code",
   "execution_count": 3,
   "metadata": {},
   "outputs": [
    {
     "name": "stderr",
     "output_type": "stream",
     "text": [
      "WARNING: VerifyWarning: Verification reported errors: [astropy.io.fits.verify]\n",
      "WARNING: VerifyWarning: HDU 1: [astropy.io.fits.verify]\n",
      "WARNING: VerifyWarning:     Column TEL_NAME: type must be 16-bytes string but is 3-bytes string.  Will try to fix. [astropy.io.fits.verify]\n",
      "WARNING: VerifyWarning:     Column TEL_NAME: unit must be None but is None.  Fixed. [astropy.io.fits.verify]\n",
      "WARNING: VerifyWarning:     Column STA_NAME: type must be 16-bytes string but is 2-bytes string.  Will try to fix. [astropy.io.fits.verify]\n",
      "WARNING: VerifyWarning:     Column STA_NAME: unit must be None but is None.  Fixed. [astropy.io.fits.verify]\n",
      "WARNING: VerifyWarning:     Column STA_INDEX: unit must be None but is None.  Fixed. [astropy.io.fits.verify]\n",
      "WARNING: VerifyWarning:     Column name(s) should start with prefix_ :''MNTSTA''.  NS_ has been prefixed to column name(s) [astropy.io.fits.verify]\n",
      "WARNING: VerifyWarning: HDU 2: [astropy.io.fits.verify]\n",
      "WARNING: VerifyWarning:     Column TARGET_ID: unit must be None but is None.  Fixed. [astropy.io.fits.verify]\n",
      "WARNING: VerifyWarning:     Column VELTYP: type must be 8-bytes string but is 7-bytes string.  Will try to fix. [astropy.io.fits.verify]\n",
      "WARNING: VerifyWarning:     Column VELTYP: unit must be None but is None.  Fixed. [astropy.io.fits.verify]\n",
      "WARNING: VerifyWarning:     Column VELDEF: type must be 8-bytes string but is 7-bytes string.  Will try to fix. [astropy.io.fits.verify]\n",
      "WARNING: VerifyWarning:     Column VELDEF: unit must be None but is None.  Fixed. [astropy.io.fits.verify]\n",
      "WARNING: VerifyWarning:     Column TARGET: type must be 32-bytes string but is 8-bytes string.  Will try to fix. [astropy.io.fits.verify]\n",
      "WARNING: VerifyWarning:     Column TARGET: unit must be None but is None.  Fixed. [astropy.io.fits.verify]\n",
      "WARNING: VerifyWarning:     Column SPECTYP: type must be 32-bytes string but is 7-bytes string.  Will try to fix. [astropy.io.fits.verify]\n",
      "WARNING: VerifyWarning:     Column SPECTYP: unit must be None but is None.  Fixed. [astropy.io.fits.verify]\n",
      "WARNING: VerifyWarning: HDU 5: [astropy.io.fits.verify]\n",
      "WARNING: VerifyWarning:     Column FLAG: unit must be None but is None.  Fixed. [astropy.io.fits.verify]\n",
      "WARNING: VerifyWarning:     Column VISAMP: unit must be None but is None.  Fixed. [astropy.io.fits.verify]\n",
      "WARNING: VerifyWarning:     Column VISAMPERR: unit must be None but is None.  Fixed. [astropy.io.fits.verify]\n",
      "WARNING: VerifyWarning:     Column VISPHI: unit must be None but is deg.  Fixed. [astropy.io.fits.verify]\n",
      "WARNING: VerifyWarning:     Column VISPHIERR: unit must be None but is deg.  Fixed. [astropy.io.fits.verify]\n",
      "WARNING: VerifyWarning:     Column RVIS: unit must be None but is e.  Fixed. [astropy.io.fits.verify]\n",
      "WARNING: VerifyWarning:     Column RVISERR: unit must be None but is e.  Fixed. [astropy.io.fits.verify]\n",
      "WARNING: VerifyWarning:     Column IVIS: unit must be None but is e.  Fixed. [astropy.io.fits.verify]\n",
      "WARNING: VerifyWarning:     Column IVISERR: unit must be None but is e.  Fixed. [astropy.io.fits.verify]\n",
      "WARNING: VerifyWarning:     Column name(s) should start with prefix_ :''VISDATA', 'VISERR', 'NDIT', 'NVALID''.  NS_ has been prefixed to column name(s) [astropy.io.fits.verify]\n",
      "WARNING: VerifyWarning: HDU 6: [astropy.io.fits.verify]\n",
      "WARNING: VerifyWarning:     Column VIS2DATA: unit must be None but is None.  Fixed. [astropy.io.fits.verify]\n",
      "WARNING: VerifyWarning:     Column VIS2ERR: unit must be None but is None.  Fixed. [astropy.io.fits.verify]\n",
      "WARNING: VerifyWarning:     Column name(s) should start with prefix_ :''NDIT', 'NVALID''.  NS_ has been prefixed to column name(s) [astropy.io.fits.verify]\n",
      "WARNING: VerifyWarning: HDU 7: [astropy.io.fits.verify]\n",
      "WARNING: VerifyWarning:     Column T3AMP: unit must be None but is None.  Fixed. [astropy.io.fits.verify]\n",
      "WARNING: VerifyWarning:     Column T3AMPERR: unit must be None but is None.  Fixed. [astropy.io.fits.verify]\n",
      "WARNING: VerifyWarning: HDU 8: [astropy.io.fits.verify]\n",
      "WARNING: VerifyWarning:     Column name(s) should start with prefix_ :''VISDATA', 'VISERR', 'NDIT', 'NVALID', 'GDELAY', 'PHASE''.  NS_ has been prefixed to column name(s) [astropy.io.fits.verify]\n",
      "WARNING: VerifyWarning: HDU 9: [astropy.io.fits.verify]\n",
      "WARNING: VerifyWarning: HDU 10: [astropy.io.fits.verify]\n",
      "WARNING: VerifyWarning: Note: astropy.io.fits uses zero-based indexing.\n",
      " [astropy.io.fits.verify]\n",
      "WARNING: VerifyWarning:     Column EQUINOX: unit must be yr but is year.  Fixed. [astropy.io.fits.verify]\n",
      "WARNING: VerifyWarning:     Column PMRA: unit must be deg/yr but is deg/year.  Fixed. [astropy.io.fits.verify]\n",
      "WARNING: VerifyWarning:     Column PMDEC: unit must be deg/yr but is deg/year.  Fixed. [astropy.io.fits.verify]\n",
      "WARNING: VerifyWarning:     Column PMRA_ERR: unit must be deg/yr but is deg/year.  Fixed. [astropy.io.fits.verify]\n",
      "WARNING: VerifyWarning:     Column PMDEC_ERR: unit must be deg/yr but is deg/year.  Fixed. [astropy.io.fits.verify]\n",
      "WARNING: VerifyWarning:     Column TARGET: type must be 16-bytes string but is 6-bytes string.  Will try to fix. [astropy.io.fits.verify]\n",
      "WARNING: VerifyWarning:     Column SPECTYP: type must be 16-bytes string but is 1-byte string.  Will try to fix. [astropy.io.fits.verify]\n",
      "WARNING: VerifyWarning: HDU 3: [astropy.io.fits.verify]\n",
      "WARNING: VerifyWarning: HDU 4: [astropy.io.fits.verify]\n",
      "WARNING: VerifyWarning:     Column MJD: unit must be d but is day.  Fixed. [astropy.io.fits.verify]\n",
      "WARNING: VerifyWarning:     Column INT_TIME: unit must be s but is sec.  Fixed. [astropy.io.fits.verify]\n",
      "WARNING: VerifyWarning:     Column TIME: unit must be s but is sec.  Fixed. [astropy.io.fits.verify]\n"
     ]
    }
   ],
   "source": [
    "gravity.verify('fix+warn')\n",
    "pionier.verify('fix+warn')"
   ]
  },
  {
   "cell_type": "markdown",
   "metadata": {},
   "source": [
    "The OIFITS instances print nicely, indicating extensions with the data dimension."
   ]
  },
  {
   "cell_type": "code",
   "execution_count": 4,
   "metadata": {},
   "outputs": [
    {
     "data": {
      "text/plain": [
       "<OIFITS2 at 0x7fbee2d0a270: <PrimaryHDU2 (void)> <ArrayHDU2 (6C×4R)> <TargetHDU2 (17C×2R)> <WavelengthHDU2 (2C×210R=210W)> <WavelengthHDU2 (2C×5R=5W)> <VisHDU2 (20C×6R×5W)> <Vis2HDU2 (12C×6R×5W)> <T3HDU2 (16C×4R×5W)> <FluxHDU1 (10C×4R×5W)> <VisHDU2 (29C×6R×210W)> <Vis2HDU2 (12C×6R×210W)> <T3HDU2 (16C×4R×210W)> <FluxHDU1 (15C×4R×210W)>>"
      ]
     },
     "execution_count": 4,
     "metadata": {},
     "output_type": "execute_result"
    }
   ],
   "source": [
    "gravity"
   ]
  },
  {
   "cell_type": "code",
   "execution_count": 5,
   "metadata": {},
   "outputs": [
    {
     "data": {
      "text/plain": [
       "<OIFITS1 at 0x7fbe93011ea0: <PrimaryHDU1 (void)> <TargetHDU1 (17C×1R)> <WavelengthHDU1 (2C×3R=3W)> <ArrayHDU1 (5C×4R)> <Vis2HDU1 (10C×5R×3W)> <T3HDU1 (14C×4R×3W)>>"
      ]
     },
     "execution_count": 5,
     "metadata": {},
     "output_type": "execute_result"
    }
   ],
   "source": [
    "pionier"
   ]
  },
  {
   "cell_type": "markdown",
   "metadata": {},
   "source": [
    "OIFITS files can be merged easily.  Reindexing of extensions and target/station indices are taken care of."
   ]
  },
  {
   "cell_type": "code",
   "execution_count": 6,
   "metadata": {},
   "outputs": [
    {
     "data": {
      "text/plain": [
       "<OIFITS2 at 0x7fbe92ea02c0: <PrimaryHDU2 (void)> <TargetHDU2 (17C×3R)> <ArrayHDU2 (6C×7R)> <WavelengthHDU2 (2C×5R=5W)> <WavelengthHDU2 (2C×210R=210W)> <WavelengthHDU2 (2C×3R=3W)> <VisHDU2 (20C×6R×5W)> <VisHDU2 (29C×6R×210W)> <Vis2HDU2 (12C×6R×5W)> <Vis2HDU2 (12C×6R×210W)> <Vis2HDU2 (10C×5R×3W)> <T3HDU2 (16C×4R×5W)> <T3HDU2 (16C×4R×210W)> <T3HDU2 (14C×4R×3W)> <FluxHDU1 (10C×4R×5W)> <FluxHDU1 (15C×4R×210W)>>"
      ]
     },
     "execution_count": 6,
     "metadata": {},
     "output_type": "execute_result"
    }
   ],
   "source": [
    "# we merge arrays and stations of the same name, not caring about their exact\n",
    "# coordinates. Reason: PIONIER sets them to zero but we know both PIONIER and \n",
    "# GRAVITY name the stations correctly.\n",
    "oifits.set_merge_settings(array_distance=1e+9, station_distance=1e+9)\n",
    "merged = gravity + pionier\n",
    "merged"
   ]
  },
  {
   "cell_type": "code",
   "execution_count": 7,
   "metadata": {},
   "outputs": [
    {
     "data": {
      "text/plain": [
       "SIMPLE  =                    T / file does conform to FITS standard             \n",
       "BITPIX  =                    8 / array data type                                \n",
       "NAXIS   =                    0 / number of data axes                            \n",
       "EXTEND  =                    T / FITS dataset may contain extensions            \n",
       "COMMENT   FITS (Flexible Image Transport System) format is defined in 'Astronomy\n",
       "COMMENT   and Astrophysics', volume 376, page 359; bibcode: 2001A&A...376..359H \n",
       "DATE    = '2020-07-02T19:52:50' / file creation date (YYYY-MM-DDThh:mm:ss UT)   \n",
       "DATE-OBS= '2012-12-21T04:12:03.022' / Observing date                            \n",
       "CONTENT = 'OIFITS2 '                                                            \n",
       "REFERENC= 'MULTI   '                                                            \n",
       "OBSERVER= 'UNKNOWN '           / Name of observer.                              \n",
       "PROG_ID = 'MULTI   '                                                            \n",
       "PROCSOFT= 'MULTI   '                                                            \n",
       "OBJECT  = 'MULTI   '           / Original target.                               \n",
       "INSMODE = 'MULTI   '                                                            \n",
       "ORIGIN  = 'ESO-PARANAL'        / European Southern Observatory                  \n",
       "TELESCOP= 'VLTI    '           / ESO <TEL>                                      \n",
       "INSTRUME= 'MULTI   '           / Instrument used.                               \n",
       "PI-COI  = 'UNKNOWN '           / PI-COI name.                                   "
      ]
     },
     "execution_count": 7,
     "metadata": {},
     "output_type": "execute_result"
    }
   ],
   "source": [
    "merged[0].header[0:19]"
   ]
  },
  {
   "cell_type": "markdown",
   "metadata": {},
   "source": [
    "One of the problems of the OIFITS standard is how complicated the data structure is, with a lot of cross-references.  It is possible to obtain the data in a flat table, listing one single scalar observable per line together to all relevant parameters such as target, date, wavelength, band, baseline(s)."
   ]
  },
  {
   "cell_type": "code",
   "execution_count": 8,
   "metadata": {},
   "outputs": [
    {
     "name": "stdout",
     "output_type": "stream",
     "text": [
      " TARGET    EFF_WAVE    EFF_BAND  U1COORD ... observable  value    error  \n",
      "-------- ----------- ----------- ------- ... ---------- ------- ---------\n",
      "CO_Ori_A 2.02369e-06 8.50000e-08   5.488 ...     VISAMP 0.84688 0.0041681\n",
      "CO_Ori_A 2.09294e-06 8.50000e-08   5.488 ...     VISAMP 0.94783 0.0019325\n",
      "CO_Ori_A 2.19100e-06 8.50000e-08   5.488 ...     VISAMP 0.97285   0.00123\n",
      "CO_Ori_A 2.29188e-06 8.50000e-08   5.488 ...     VISAMP  0.9789 0.0017413\n",
      "CO_Ori_A 2.36233e-06 8.50000e-08   5.488 ...     VISAMP 0.96522 0.0013306\n",
      "CO_Ori_A 2.02369e-06 8.50000e-08  -2.729 ...     VISAMP 0.72994 0.0063785\n",
      "CO_Ori_A 2.09294e-06 8.50000e-08  -2.729 ...     VISAMP 0.80576 0.0026422\n",
      "CO_Ori_A 2.19100e-06 8.50000e-08  -2.729 ...     VISAMP 0.86026 0.0021998\n",
      "CO_Ori_A 2.29188e-06 8.50000e-08  -2.729 ...     VISAMP 0.89297 0.0013147\n",
      "CO_Ori_A 2.36233e-06 8.50000e-08  -2.729 ...     VISAMP 0.92514 0.0019255\n",
      "     ...         ...         ...     ... ...        ...     ...       ...\n",
      "CO_Ori_B 2.42799e-06 4.40191e-09      -- ...   FLUXDATA  4133.4    252.01\n",
      "CO_Ori_B 2.43019e-06 4.40191e-09      -- ...   FLUXDATA    4556    189.55\n",
      "CO_Ori_B 2.43239e-06 4.40191e-09      -- ...   FLUXDATA  3818.2    236.74\n",
      "CO_Ori_B 2.43459e-06 4.40191e-09      -- ...   FLUXDATA  3291.1     150.2\n",
      "CO_Ori_B 2.43679e-06 4.40191e-09      -- ...   FLUXDATA  2955.2    245.56\n",
      "CO_Ori_B 2.43900e-06 4.40191e-09      -- ...   FLUXDATA  4231.8     247.2\n",
      "CO_Ori_B 2.44120e-06 4.40191e-09      -- ...   FLUXDATA  3596.4    226.42\n",
      "CO_Ori_B 2.44340e-06 4.40191e-09      -- ...   FLUXDATA  3653.5     273.6\n",
      "CO_Ori_B 2.44560e-06 4.40191e-09      -- ...   FLUXDATA  3282.7     192.7\n",
      "CO_Ori_B 2.44780e-06 4.40191e-09      -- ...   FLUXDATA    3037    250.84\n",
      "CO_Ori_B 2.45000e-06 4.40191e-09      -- ...   FLUXDATA  3098.7    146.92\n",
      "Length = 9069 rows\n"
     ]
    }
   ],
   "source": [
    "tab = merged.to_table()\n",
    "print(tab['TARGET','EFF_WAVE','EFF_BAND','U1COORD','V1COORD','U2COORD','V2COORD','observable','value','error'])"
   ]
  },
  {
   "cell_type": "markdown",
   "metadata": {},
   "source": [
    "## Creating OIFITS files\n",
    "\n",
    "We start by creating an array HDU.  The local station coordinates can be provided (East-North-Up) instead of the XYZ geocentric format of the OIFITS. They will be converted (WGS84)."
   ]
  },
  {
   "cell_type": "code",
   "execution_count": 9,
   "metadata": {},
   "outputs": [
    {
     "name": "stdout",
     "output_type": "stream",
     "text": [
      "[[-20.20989991  13.11233089 -52.62704469]\n",
      " [ -9.92097336  22.31393991 -64.01000155]\n",
      " [ 96.34328172  47.36351202 -37.74793289]\n",
      " [ 71.24532488 -21.79466993  86.01740627]]\n"
     ]
    }
   ],
   "source": [
    "# WGS coordinates of nominal VLTI centre  and nominal station positions.\n",
    "# (InterfaceControl Document between VLTI and its Instruments (Part I)\n",
    "# Document ESO-045686, v. 7.3)\n",
    "arrname = 'VLTI'\n",
    "lat = -24.62743941\n",
    "lon = -70.40498689\n",
    "alt = 2669\n",
    "sta_name = ['A0', 'B1', 'J1', 'J6']\n",
    "tel_name = ['AT1', 'AT2', 'AT3', 'AT4']\n",
    "diameter = [1.8, 1.8, 1.8, 1.8]\n",
    "sta_enu = [[-14.642, -55.812, 4.54],\n",
    "           [ -1.863, -68.334, 4.54],\n",
    "           [106.648, -39.444, 4.54],\n",
    "           [ 59.810,  96.706, 4.54]]\n",
    "\n",
    "# Build the OI_ARRAY table \n",
    "array  = oifits.new_array_hdu(arrname, lat=lat, lon=lon, alt=alt,\n",
    "            tel_name=tel_name, sta_name=sta_name, sta_enu=sta_enu,\n",
    "            diameter=1.8)\n",
    "print(array.STAXYZ)\n"
   ]
  },
  {
   "cell_type": "markdown",
   "metadata": {},
   "source": [
    "OI_TARGET HDUs can be created in the same way or directly from the SIMBAD identifiers. Non ascii-names will be substituted."
   ]
  },
  {
   "cell_type": "code",
   "execution_count": 10,
   "metadata": {},
   "outputs": [
    {
     "data": {
      "text/plain": [
       "FITS_rec([(1, 138.29990608, -69.7172076 , 2000., 4.70269285e-09, 5.96320837e-09,  -5100., 'BARYCENT', 'OPTICAL', -7.58587967e-07, 5.28204506e-07, 6.78739156e-10, 5.33295046e-10, 1.397233e-07, 5.33295e-10, 'beta Car', 'A1III-', 'SCI'),\n",
       "          (2, 161.26477294, -59.68443085, 2000., 4.84813681e-08, 5.33295049e-08, -25000., 'BARYCENT', 'OPTICAL', -5.33295049e-08, 1.98773609e-08, 3.39369571e-09, 3.87850951e-09,          nan,         nan, '* eta Car', 'OBepec', 'CAL')],\n",
       "         dtype=(numpy.record, [('TARGET_ID', '<i2'), ('RAEP0', '<f8'), ('DECEP0', '<f8'), ('EQUINOX', '<f4'), ('RA_ERR', '<f8'), ('DEC_ERR', '<f8'), ('SYSVEL', '<f8'), ('VELTYP', 'S8'), ('VELDEF', 'S8'), ('PMRA', '<f8'), ('PMDEC', '<f8'), ('PMRA_ERR', '<f8'), ('PMDEC_ERR', '<f8'), ('PARALLAX', '<f4'), ('PARA_ERR', '<f4'), ('TARGET', 'S32'), ('SPECTYP', 'S32'), ('CATEGORY', 'S3')]))"
      ]
     },
     "execution_count": 10,
     "metadata": {},
     "output_type": "execute_result"
    }
   ],
   "source": [
    "simbad_id = ['beta Car', 'η Car']\n",
    "category = ['SCI', 'CAL']\n",
    "target = oifits.new_target_hdu_from_simbad(simbad_id, category=category)\n",
    "target.data\n"
   ]
  },
  {
   "cell_type": "markdown",
   "metadata": {},
   "source": [
    "Create OI_WAVELENGTH and OI_VIS2 tables"
   ]
  },
  {
   "cell_type": "code",
   "execution_count": 11,
   "metadata": {},
   "outputs": [],
   "source": [
    "insname = 'TESTING-3CHANNELS'\n",
    "wave = [2.0e-6, 2.2e-6, 2.4e-6]\n",
    "band = [0.2e-6, 0.2e-6, 0.2e-6]\n",
    "wavelength = oifits.new_wavelength_hdu(insname, eff_wave=wave, eff_band=band)"
   ]
  },
  {
   "cell_type": "code",
   "execution_count": 12,
   "metadata": {},
   "outputs": [],
   "source": [
    "sta_index = [[1, 2], [1, 3], [1,4], [2,3], [2,4], [3, 4]] * 2\n",
    "target_id = [1] * 6 + [2] * 6\n",
    "vis2data = [[1, 1, 1]] * 12\n",
    "vis2err = [[0.05, 0.05, 0.05]] * 12\n",
    "mjd = np.linspace(58880, 58880.2, 12)\n",
    "\n",
    "vis2 = oifits.new_vis2_hdu(\n",
    "        insname, arrname=arrname, mjd=mjd,\n",
    "        target_id=target_id, sta_index=sta_index,\n",
    "        vis2data=vis2data, vis2err=vis2err)"
   ]
  },
  {
   "cell_type": "code",
   "execution_count": 18,
   "metadata": {},
   "outputs": [
    {
     "data": {
      "text/plain": [
       "<OIFITS2 at 0x7fbe92a6b040: <PrimaryHDU2 (void)> <TargetHDU2 (18C×2R)> <ArrayHDU2 (5C×4R)> <WavelengthHDU2 (2C×3R=3W)> <Vis2HDU2 (10C×12R×3W)>>"
      ]
     },
     "execution_count": 18,
     "metadata": {},
     "output_type": "execute_result"
    }
   ],
   "source": [
    "obs = oifits.OIFITS2([oifits.PrimaryHDU2(), target, array, wavelength, vis2])\n",
    "obs"
   ]
  },
  {
   "cell_type": "code",
   "execution_count": 19,
   "metadata": {},
   "outputs": [
    {
     "name": "stderr",
     "output_type": "stream",
     "text": [
      "WARNING: VerifyWarning: Verification reported errors: [astropy.io.fits.verify]\n",
      "WARNING: VerifyWarning: HDU 0: [astropy.io.fits.verify]\n",
      "WARNING: VerifyWarning:     'CONTENT' card does not exist. [astropy.io.fits.verify]\n",
      "WARNING: VerifyWarning:     'TELESCOP' card does not exist. [astropy.io.fits.verify]\n",
      "WARNING: VerifyWarning:     'INSTRUME' card does not exist. [astropy.io.fits.verify]\n",
      "WARNING: VerifyWarning:     'OBJECT' card does not exist. [astropy.io.fits.verify]\n",
      "WARNING: VerifyWarning: HDU 4: [astropy.io.fits.verify]\n",
      "WARNING: VerifyWarning:     'DATE-OBS' card does not exist. [astropy.io.fits.verify]\n",
      "WARNING: VerifyWarning:     Column UCOORD: shape is (3,), should be () [astropy.io.fits.verify]\n",
      "WARNING: VerifyWarning:     Column VCOORD: shape is (3,), should be () [astropy.io.fits.verify]\n",
      "WARNING: VerifyWarning: Note: astropy.io.fits uses zero-based indexing.\n",
      " [astropy.io.fits.verify]\n"
     ]
    }
   ],
   "source": [
    "obs.verify('warn')"
   ]
  },
  {
   "cell_type": "code",
   "execution_count": null,
   "metadata": {},
   "outputs": [],
   "source": []
  }
 ],
 "metadata": {
  "kernelspec": {
   "display_name": "Python 3",
   "language": "python",
   "name": "python3"
  },
  "language_info": {
   "codemirror_mode": {
    "name": "ipython",
    "version": 3
   },
   "file_extension": ".py",
   "mimetype": "text/x-python",
   "name": "python",
   "nbconvert_exporter": "python",
   "pygments_lexer": "ipython3",
   "version": "3.8.2"
  }
 },
 "nbformat": 4,
 "nbformat_minor": 4
}
