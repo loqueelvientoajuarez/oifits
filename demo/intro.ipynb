{
 "cells": [
  {
   "cell_type": "code",
   "execution_count": 1,
   "metadata": {},
   "outputs": [],
   "source": [
    "# propitiatory invocation (i.e. the user hasn't installed oifits as a package)\n",
    "import sys\n",
    "sys.path.append('..') \n",
    "\n",
    "import numpy as np\n",
    "from astropy.table import Table"
   ]
  },
  {
   "cell_type": "markdown",
   "metadata": {},
   "source": [
    "## Opening OIFITS files"
   ]
  },
  {
   "cell_type": "markdown",
   "metadata": {},
   "source": [
    "We import the oifits module and open sample OIFITS files."
   ]
  },
  {
   "cell_type": "code",
   "execution_count": 2,
   "metadata": {},
   "outputs": [],
   "source": [
    "import pyoifits as oifits\n",
    "\n",
    "# OIFITS version 2 from GRAVITY @ VLTI\n",
    "gravity = oifits.open('test1.fits')\n",
    "# OIFITS version 1 from PIONIER @ VLTI\n",
    "pionier = oifits.open('test2.fits')\n",
    "\n",
    "# The GRAVITY pipeline produces a non-standard OI_FLUX table, we fix that.\n",
    "for h in gravity[8::4]:\n",
    "    h.rename_columns(FLUX='FLUXDATA')\n",
    "    "
   ]
  },
  {
   "cell_type": "markdown",
   "metadata": {},
   "source": [
    "Verify the compliance to the standard and fix mendable issues.  The typical offences are strings of inappropriate widths, bad float/double type, non-standard columns that should have an NS_ prefix, and units."
   ]
  },
  {
   "cell_type": "code",
   "execution_count": 3,
   "metadata": {},
   "outputs": [
    {
     "name": "stderr",
     "output_type": "stream",
     "text": [
      "WARNING: VerifyWarning: Verification reported errors: [astropy.io.fits.verify]\n",
      "WARNING: VerifyWarning: HDU 1: [astropy.io.fits.verify]\n",
      "WARNING: VerifyWarning:     Column TEL_NAME: type must be 16A but is 3A.  Will try to fix. [astropy.io.fits.verify]\n",
      "WARNING: VerifyWarning:     Column STA_NAME: type must be 16A but is 2A.  Will try to fix. [astropy.io.fits.verify]\n",
      "WARNING: VerifyWarning:     Column STAXYZ: type must be 3E but is 3D.  Will try to fix. [astropy.io.fits.verify]\n",
      "WARNING: VerifyWarning:     Column name(s) should start with prefix_ :''MNTSTA''.  NS_ has been prefixed to column name(s) [astropy.io.fits.verify]\n",
      "WARNING: VerifyWarning: HDU 2: [astropy.io.fits.verify]\n",
      "WARNING: VerifyWarning:     Column VELTYP: type must be 8A but is 7A.  Will try to fix. [astropy.io.fits.verify]\n",
      "WARNING: VerifyWarning:     Column VELDEF: type must be 8A but is 7A.  Will try to fix. [astropy.io.fits.verify]\n",
      "WARNING: VerifyWarning:     Column TARGET: type must be 32A but is 8A.  Will try to fix. [astropy.io.fits.verify]\n",
      "WARNING: VerifyWarning:     Column SPECTYP: type must be 32A but is 7A.  Will try to fix. [astropy.io.fits.verify]\n",
      "WARNING: VerifyWarning: HDU 5: [astropy.io.fits.verify]\n",
      "WARNING: VerifyWarning:     Column name(s) should start with prefix_ :''VISDATA', 'VISERR', 'NDIT', 'NVALID''.  NS_ has been prefixed to column name(s) [astropy.io.fits.verify]\n",
      "WARNING: VerifyWarning: HDU 6: [astropy.io.fits.verify]\n",
      "WARNING: VerifyWarning:     Column name(s) should start with prefix_ :''NDIT', 'NVALID''.  NS_ has been prefixed to column name(s) [astropy.io.fits.verify]\n",
      "WARNING: VerifyWarning: HDU 7: [astropy.io.fits.verify]\n",
      "WARNING: VerifyWarning: HDU 8: [astropy.io.fits.verify]\n",
      "WARNING: VerifyWarning:     Column name(s) should start with prefix_ :''VISDATA', 'VISERR', 'NDIT', 'NVALID', 'GDELAY', 'PHASE', 'OPD_MET_FC', 'PHASE_REF_COEFF', 'E_U', 'E_V', 'E_W', 'E_AZ', 'E_ZD''.  NS_ has been prefixed to column name(s) [astropy.io.fits.verify]\n",
      "WARNING: VerifyWarning: HDU 9: [astropy.io.fits.verify]\n",
      "WARNING: VerifyWarning: HDU 10: [astropy.io.fits.verify]\n",
      "WARNING: VerifyWarning: Note: astropy.io.fits uses zero-based indexing.\n",
      " [astropy.io.fits.verify]\n",
      "WARNING: VerifyWarning:     Column EQUINOX: unit must be yr but is year.  Fixed. [astropy.io.fits.verify]\n",
      "WARNING: VerifyWarning:     Column PMRA: unit must be deg/yr but is deg/year.  Fixed. [astropy.io.fits.verify]\n",
      "WARNING: VerifyWarning:     Column PMDEC: unit must be deg/yr but is deg/year.  Fixed. [astropy.io.fits.verify]\n",
      "WARNING: VerifyWarning:     Column PMRA_ERR: unit must be deg/yr but is deg/year.  Fixed. [astropy.io.fits.verify]\n",
      "WARNING: VerifyWarning:     Column PMDEC_ERR: unit must be deg/yr but is deg/year.  Fixed. [astropy.io.fits.verify]\n",
      "WARNING: VerifyWarning:     Column TARGET: type must be 16A but is 6A.  Will try to fix. [astropy.io.fits.verify]\n",
      "WARNING: VerifyWarning:     Column SPECTYP: type must be 16A but is 1A.  Will try to fix. [astropy.io.fits.verify]\n",
      "WARNING: VerifyWarning: HDU 3: [astropy.io.fits.verify]\n",
      "WARNING: VerifyWarning: HDU 4: [astropy.io.fits.verify]\n",
      "WARNING: VerifyWarning:     Column MJD: unit must be d but is day.  Fixed. [astropy.io.fits.verify]\n",
      "WARNING: VerifyWarning:     Column INT_TIME: unit must be s but is sec.  Fixed. [astropy.io.fits.verify]\n",
      "WARNING: VerifyWarning:     Column TIME: unit must be s but is sec.  Fixed. [astropy.io.fits.verify]\n"
     ]
    }
   ],
   "source": [
    "gravity.verify('fix+warn')\n",
    "pionier.verify('fix+warn')"
   ]
  },
  {
   "cell_type": "markdown",
   "metadata": {},
   "source": [
    "The OIFITS instances print nicely, indicating extensions with the data dimension."
   ]
  },
  {
   "cell_type": "code",
   "execution_count": 4,
   "metadata": {},
   "outputs": [
    {
     "data": {
      "text/plain": [
       "<OIFITS2 at 0x7fe94da477c0: <PrimaryHDU2 (void)> <ArrayHDU2 (6C×4R)> <TargetHDU2 (17C×2R)> <WavelengthHDU2 (2C×210R=210W)> <WavelengthHDU2 (2C×5R=5W)> <VisHDU2 (20C×6R×5W)> <Vis2HDU2 (12C×6R×5W)> <T3HDU2 (16C×4R×5W)> <FluxHDU1 (10C×4R×5W)> <VisHDU2 (29C×6R×210W)> <Vis2HDU2 (12C×6R×210W)> <T3HDU2 (16C×4R×210W)> <FluxHDU1 (15C×4R×210W)>>"
      ]
     },
     "execution_count": 4,
     "metadata": {},
     "output_type": "execute_result"
    }
   ],
   "source": [
    "gravity"
   ]
  },
  {
   "cell_type": "code",
   "execution_count": 5,
   "metadata": {},
   "outputs": [
    {
     "data": {
      "text/plain": [
       "<OIFITS1 at 0x7fe91ade6bd0: <PrimaryHDU1 (void)> <TargetHDU1 (17C×1R)> <WavelengthHDU1 (2C×3R=3W)> <ArrayHDU1 (5C×4R)> <Vis2HDU1 (10C×5R×3W)> <T3HDU1 (14C×4R×3W)>>"
      ]
     },
     "execution_count": 5,
     "metadata": {},
     "output_type": "execute_result"
    }
   ],
   "source": [
    "pionier"
   ]
  },
  {
   "cell_type": "markdown",
   "metadata": {},
   "source": [
    "OIFITS files can be merged easily.  Reindexing of extensions and target/station indices are taken care of."
   ]
  },
  {
   "cell_type": "code",
   "execution_count": 6,
   "metadata": {},
   "outputs": [
    {
     "data": {
      "text/plain": [
       "<OIFITS2 at 0x7fe91ad16a90: <PrimaryHDU2 (void)> <TargetHDU2 (17C×3R)> <ArrayHDU2 (6C×7R)> <WavelengthHDU2 (2C×5R=5W)> <WavelengthHDU2 (2C×210R=210W)> <WavelengthHDU2 (2C×3R=3W)> <VisHDU2 (20C×6R×5W)> <VisHDU2 (29C×6R×210W)> <Vis2HDU2 (12C×6R×5W)> <Vis2HDU2 (12C×6R×210W)> <Vis2HDU2 (10C×5R×3W)> <T3HDU2 (16C×4R×5W)> <T3HDU2 (16C×4R×210W)> <T3HDU2 (14C×4R×3W)> <FluxHDU1 (10C×4R×5W)> <FluxHDU1 (15C×4R×210W)>>"
      ]
     },
     "execution_count": 6,
     "metadata": {},
     "output_type": "execute_result"
    }
   ],
   "source": [
    "# we merge arrays and stations of the same name, not caring about their exact\n",
    "# coordinates. Reason: PIONIER sets them to zero but we know both PIONIER and \n",
    "# GRAVITY name the stations correctly.\n",
    "oifits.set_merge_settings(array_distance=1e+9, station_distance=1e+9)\n",
    "merged = gravity + pionier\n",
    "merged"
   ]
  },
  {
   "cell_type": "code",
   "execution_count": 7,
   "metadata": {},
   "outputs": [
    {
     "data": {
      "text/plain": [
       "SIMPLE  =                    T / conforms to FITS standard                      \n",
       "BITPIX  =                    8 / array data type                                \n",
       "NAXIS   =                    0 / number of array dimensions                     \n",
       "EXTEND  =                    T                                                  \n",
       "COMMENT   FITS (Flexible Image Transport System) format is defined in 'Astronomy\n",
       "COMMENT   and Astrophysics', volume 376, page 359; bibcode: 2001A&A...376..359H \n",
       "DATE    = '2020-07-02T19:52:50' / file creation date (YYYY-MM-DDThh:mm:ss UT)   \n",
       "DATE-OBS= '2012-12-21T04:12:03.022' / Observing date                            \n",
       "CONTENT = 'OIFITS2 '                                                            \n",
       "REFERENC= 'MULTI   '                                                            \n",
       "OBSERVER= 'UNKNOWN '           / Name of observer.                              \n",
       "PROG_ID = 'MULTI   '                                                            \n",
       "PROCSOFT= 'MULTI   '                                                            \n",
       "OBJECT  = 'MULTI   '           / Original target.                               \n",
       "INSMODE = 'MULTI   '                                                            \n",
       "ORIGIN  = 'ESO-PARANAL'        / European Southern Observatory                  \n",
       "TELESCOP= 'VLTI    '           / ESO <TEL>                                      \n",
       "INSTRUME= 'MULTI   '           / Instrument used.                               \n",
       "PI-COI  = 'UNKNOWN '           / PI-COI name.                                   "
      ]
     },
     "execution_count": 7,
     "metadata": {},
     "output_type": "execute_result"
    }
   ],
   "source": [
    "merged[0].header[0:19]"
   ]
  },
  {
   "cell_type": "markdown",
   "metadata": {},
   "source": [
    "One of the problems of the OIFITS standard is how complicated the data structure is, with a lot of cross-references.  It is possible to obtain the data in a flat table, listing one single scalar observable per line together to all relevant parameters such as target, date, wavelength, band, baseline(s)."
   ]
  },
  {
   "cell_type": "code",
   "execution_count": 8,
   "metadata": {},
   "outputs": [
    {
     "name": "stdout",
     "output_type": "stream",
     "text": [
      " TARGET    EFF_WAVE    EFF_BAND  U1COORD ... observable  value    error  \n",
      "-------- ----------- ----------- ------- ... ---------- ------- ---------\n",
      "CO_Ori_A 2.02369e-06 8.50000e-08   5.488 ...     VISAMP 0.84688 0.0041681\n",
      "CO_Ori_A 2.09294e-06 8.50000e-08   5.488 ...     VISAMP 0.94783 0.0019325\n",
      "CO_Ori_A 2.19100e-06 8.50000e-08   5.488 ...     VISAMP 0.97285   0.00123\n",
      "CO_Ori_A 2.29188e-06 8.50000e-08   5.488 ...     VISAMP  0.9789 0.0017413\n",
      "CO_Ori_A 2.36233e-06 8.50000e-08   5.488 ...     VISAMP 0.96522 0.0013306\n",
      "CO_Ori_A 2.02369e-06 8.50000e-08  -2.729 ...     VISAMP 0.72994 0.0063785\n",
      "CO_Ori_A 2.09294e-06 8.50000e-08  -2.729 ...     VISAMP 0.80576 0.0026422\n",
      "CO_Ori_A 2.19100e-06 8.50000e-08  -2.729 ...     VISAMP 0.86026 0.0021998\n",
      "CO_Ori_A 2.29188e-06 8.50000e-08  -2.729 ...     VISAMP 0.89297 0.0013147\n",
      "CO_Ori_A 2.36233e-06 8.50000e-08  -2.729 ...     VISAMP 0.92514 0.0019255\n",
      "     ...         ...         ...     ... ...        ...     ...       ...\n",
      "CO_Ori_B 2.42799e-06 4.40191e-09      -- ...   FLUXDATA  4133.4    252.01\n",
      "CO_Ori_B 2.43019e-06 4.40191e-09      -- ...   FLUXDATA    4556    189.55\n",
      "CO_Ori_B 2.43239e-06 4.40191e-09      -- ...   FLUXDATA  3818.2    236.74\n",
      "CO_Ori_B 2.43459e-06 4.40191e-09      -- ...   FLUXDATA  3291.1     150.2\n",
      "CO_Ori_B 2.43679e-06 4.40191e-09      -- ...   FLUXDATA  2955.2    245.56\n",
      "CO_Ori_B 2.43900e-06 4.40191e-09      -- ...   FLUXDATA  4231.8     247.2\n",
      "CO_Ori_B 2.44120e-06 4.40191e-09      -- ...   FLUXDATA  3596.4    226.42\n",
      "CO_Ori_B 2.44340e-06 4.40191e-09      -- ...   FLUXDATA  3653.5     273.6\n",
      "CO_Ori_B 2.44560e-06 4.40191e-09      -- ...   FLUXDATA  3282.7     192.7\n",
      "CO_Ori_B 2.44780e-06 4.40191e-09      -- ...   FLUXDATA    3037    250.84\n",
      "CO_Ori_B 2.45000e-06 4.40191e-09      -- ...   FLUXDATA  3098.7    146.92\n",
      "Length = 9069 rows\n"
     ]
    }
   ],
   "source": [
    "tab = merged.to_table()\n",
    "print(tab['TARGET','EFF_WAVE','EFF_BAND','U1COORD','V1COORD','U2COORD','V2COORD','observable','value','error'])"
   ]
  },
  {
   "cell_type": "markdown",
   "metadata": {},
   "source": [
    "## Creating OIFITS files\n",
    "\n",
    "We start by creating an array HDU.  The local station coordinates can be provided (East-North-up) instead of the XYZ geocentric format of the OIFITS. They will be converted (WGS84).  Nominal positions at VLTI have centimetre precision when compared to the ones provided by the metrology.\n",
    "\n",
    "Note that neither PIONIER nor GRAVITY files above correctly enter the STA_XYZ keywords (respectively zero and East-North-up coordinates).  \n"
   ]
  },
  {
   "cell_type": "code",
   "execution_count": 9,
   "metadata": {},
   "outputs": [
    {
     "name": "stdout",
     "output_type": "stream",
     "text": [
      "Mean station position difference 3 mm, max 7 mm\n"
     ]
    }
   ],
   "source": [
    "# WGS coordinates of nominal VLTI centre  and nominal station positions.\n",
    "# (InterfaceControl Document between VLTI and its Instruments (Part I)\n",
    "# Document ESO-045686, v. 7.3, Sect. 3.3)\n",
    "arrname = 'VLTI'\n",
    "lat = -24.62743941\n",
    "lon = -70.40498689\n",
    "alt = 2669\n",
    "# Stations East-North coordinates are given in\n",
    "# https://www.eso.org/observing/etc/doc/viscalc/vltistations.html\n",
    "sta_name = ['A0', 'B2', 'D0', 'C1']\n",
    "tel_name = ['AT1', 'AT2', 'AT3', 'AT4']\n",
    "diameter = [1.8, 1.8, 1.8, 1.8]\n",
    "staenu_nom = np.array([[-14.642, -55.812, 4.54],\n",
    "                       [  0.739, -75.899, 4.54],\n",
    "                       [ 15.628, -45.397, 4.54],\n",
    "                       [  5.691, -65.735, 4.54]])\n",
    "# This differs fron the previous document by millimetres\n",
    "# and is given by the VLTI metrology in the headers. It's also \n",
    "# (quite incorrectly) available in gravity.STAXYZ with West-South-up\n",
    "# coordinates.\n",
    "staenu =  gravity.get_arrayHDUs()[0].STAXYZ.copy()\n",
    "staenu[:,0] = -staenu[:,0]\n",
    "staenu[:,1] = -staenu[:,1]\n",
    "\n",
    "# Determine the difference from nominal positions\n",
    "dif = np.abs(staenu - staenu_nom)\n",
    "print(f\"Mean station position difference {1e3*np.mean(dif):.0f} mm, max {1e3*np.max(dif):.0f} mm\")\n",
    "# Build the OI_ARRAY table \n",
    "array  = oifits.new_array_hdu(arrname=arrname, lat=lat, lon=lon, alt=alt,\n",
    "            tel_name=tel_name, sta_name=sta_name, staenu=staenu,\n",
    "            diameter=1.8)"
   ]
  },
  {
   "cell_type": "markdown",
   "metadata": {},
   "source": [
    "OI_TARGET HDUs can be created in the same way or directly from the SIMBAD identifiers. Non ascii-names will be substituted."
   ]
  },
  {
   "cell_type": "code",
   "execution_count": 10,
   "metadata": {},
   "outputs": [
    {
     "data": {
      "text/html": [
       "<i>Table length=2</i>\n",
       "<table id=\"table140639151251952\" class=\"table-striped table-bordered table-condensed\">\n",
       "<thead><tr><th>TARGET_ID</th><th>RAEP0</th><th>DECEP0</th><th>EQUINOX</th><th>RA_ERR</th><th>DEC_ERR</th><th>SYSVEL</th><th>VELTYP</th><th>VELDEF</th><th>PMRA</th><th>PMDEC</th><th>PMRA_ERR</th><th>PMDEC_ERR</th><th>PARALLAX</th><th>PARA_ERR</th><th>TARGET</th><th>SPECTYP</th><th>CATEGORY</th></tr></thead>\n",
       "<thead><tr><th>int16</th><th>float64</th><th>float64</th><th>float32</th><th>float64</th><th>float64</th><th>float64</th><th>str8</th><th>str8</th><th>float64</th><th>float64</th><th>float64</th><th>float64</th><th>float32</th><th>float32</th><th>str32</th><th>str32</th><th>str3</th></tr></thead>\n",
       "<tr><td>1</td><td>81.90973</td><td>11.4274786</td><td>2000.0</td><td>1.1250000033113692e-07</td><td>1.386111146873898e-07</td><td>23000.0</td><td>BARYCENT</td><td>OPTICAL</td><td>5.472222222222223e-07</td><td>-6.444444444444445e-07</td><td>3.0833333730697636e-08</td><td>4.6666666037506536e-08</td><td>6.388889e-07</td><td>1.3611111e-07</td><td>CO Ori</td><td>F7Ve</td><td>SCI</td></tr>\n",
       "<tr><td>2</td><td>161.2647729375</td><td>-59.68443085</td><td>2000.0</td><td>2.777777777777778e-06</td><td>3.055555555555556e-06</td><td>-25000.0</td><td>BARYCENT</td><td>OPTICAL</td><td>-3.055555555555556e-06</td><td>1.138888888888889e-06</td><td>1.944444411330753e-07</td><td>2.222222255335914e-07</td><td>nan</td><td>nan</td><td>* eta Car</td><td>OBepec</td><td>CAL</td></tr>\n",
       "</table>"
      ],
      "text/plain": [
       "<Table length=2>\n",
       "TARGET_ID     RAEP0         DECEP0    EQUINOX ...   TARGET  SPECTYP CATEGORY\n",
       "  int16      float64       float64    float32 ...   str32    str32    str3  \n",
       "--------- -------------- ------------ ------- ... --------- ------- --------\n",
       "        1       81.90973   11.4274786  2000.0 ...    CO Ori    F7Ve      SCI\n",
       "        2 161.2647729375 -59.68443085  2000.0 ... * eta Car  OBepec      CAL"
      ]
     },
     "execution_count": 10,
     "metadata": {},
     "output_type": "execute_result"
    }
   ],
   "source": [
    "simbad_id = ['CO Ori', 'η Car']\n",
    "category = ['SCI', 'CAL']\n",
    "target = oifits.new_target_hdu_from_simbad(simbad_id, category=category)\n",
    "Table(target.data)\n"
   ]
  },
  {
   "cell_type": "markdown",
   "metadata": {},
   "source": [
    "Create OI_WAVELENGTH table"
   ]
  },
  {
   "cell_type": "code",
   "execution_count": 11,
   "metadata": {},
   "outputs": [],
   "source": [
    "insname = 'TESTING-3CHANNELS'\n",
    "wave = [2.0e-6, 2.2e-6, 2.4e-6]\n",
    "band = [0.2e-6, 0.2e-6, 0.2e-6]\n",
    "wavelength = oifits.new_wavelength_hdu(insname=insname, eff_wave=wave, eff_band=band)"
   ]
  },
  {
   "cell_type": "markdown",
   "metadata": {},
   "source": [
    "Create sample OI_VIS2 table.  We let UCOORD and VCOORD to zero, as they will be updated using\n",
    "MJD and OI_ARRAY data."
   ]
  },
  {
   "cell_type": "code",
   "execution_count": 12,
   "metadata": {},
   "outputs": [],
   "source": [
    "sta_index = [[4,3],[4,2],[4,1],[3,2],[3,1],[2,1]]\n",
    "target_id = [1] * 6\n",
    "vis2data = [[1, 1, 1]] * 6\n",
    "vis2err = [[0.05, 0.05, 0.05]] * 6\n",
    "mjd = gravity[-4].MJD\n",
    "\n",
    "vis2 = oifits.new_vis2_hdu(\n",
    "        insname=insname, arrname=arrname, mjd=mjd,\n",
    "        ucoord=0, vcoord=0,\n",
    "        target_id=target_id, sta_index=sta_index,\n",
    "        vis2data=vis2data, vis2err=vis2err)"
   ]
  },
  {
   "cell_type": "markdown",
   "metadata": {},
   "source": [
    "Create the OIFITS containing these tables. Update the (u, v) coordinates and verify it's well-formed."
   ]
  },
  {
   "cell_type": "code",
   "execution_count": 13,
   "metadata": {},
   "outputs": [
    {
     "name": "stdout",
     "output_type": "stream",
     "text": [
      "FK5.ra[0]=<Longitude 81.90973932 deg> FK5.dec[0]=<Latitude 11.42746784 deg>\n",
      "altaz.alt=<Latitude 46.68925205 deg> altaz.az=<Longitude 36.45447266 deg>\n",
      "lon=314.1673839198693 lat=11.439030707449806\n"
     ]
    },
    {
     "data": {
      "text/plain": [
       "<OIFITS2 at 0x7fe91a7b0590: <PrimaryHDU2 (void)> <TargetHDU2 (18C×2R)> <ArrayHDU2 (5C×4R)> <WavelengthHDU2 (2C×3R=3W)> <Vis2HDU2 (10C×6R×3W)>>"
      ]
     },
     "execution_count": 13,
     "metadata": {},
     "output_type": "execute_result"
    }
   ],
   "source": [
    "obs = oifits.OIFITS2([oifits.PrimaryHDU2(), target, array, wavelength, vis2])\n",
    "obs.update_uv()\n",
    "obs.verify('fix+warn')\n",
    "obs"
   ]
  },
  {
   "cell_type": "markdown",
   "metadata": {},
   "source": [
    "Compare the (u, v) coordinates with those in the GRAVITY file. We've entered the same target, baselines, and MJD. We couldn't do it on `gravity` itself for it has a bogus STAXYZ column.  I have still no clue where the difference comes from (not atmospheric diffraction, probably not time)."
   ]
  },
  {
   "cell_type": "code",
   "execution_count": 34,
   "metadata": {},
   "outputs": [
    {
     "name": "stdout",
     "output_type": "stream",
     "text": [
      "(u, v) difference          mean=21 mm -- max=41 mm\n",
      "Relative (u, v) difference mean=0.1%  -- max=0.2%\n"
     ]
    }
   ],
   "source": [
    "gravity_uv = np.array([gravity[-4].UCOORD, gravity[-4].VCOORD]).T\n",
    "uv = np.array([obs[-1].UCOORD, obs[-1].VCOORD]).T\n",
    "dif = np.abs(gravity_uv - uv)\n",
    "rdif = dif / np.sqrt(uv[:,[0]] ** 2 + uv[:,[1]] ** 2)\n",
    "print(f\"(u, v) difference          mean={dif.mean()*1e3:.0f} mm -- max={dif.max()*1e3:.0f} mm\")\n",
    "print(f\"Relative (u, v) difference mean={rdif.mean():.1%}  -- max={rdif.max():.1%}\")\n"
   ]
  }
 ],
 "metadata": {
  "kernelspec": {
   "display_name": "Python 3",
   "language": "python",
   "name": "python3"
  },
  "language_info": {
   "codemirror_mode": {
    "name": "ipython",
    "version": 3
   },
   "file_extension": ".py",
   "mimetype": "text/x-python",
   "name": "python",
   "nbconvert_exporter": "python",
   "pygments_lexer": "ipython3",
   "version": "3.8.2"
  }
 },
 "nbformat": 4,
 "nbformat_minor": 4
}
