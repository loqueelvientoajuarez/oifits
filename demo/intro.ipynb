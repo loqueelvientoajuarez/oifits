{
 "cells": [
  {
   "cell_type": "code",
   "execution_count": 1,
   "metadata": {},
   "outputs": [],
   "source": [
    "# propitiatory invocation (i.e. the user hasn't installed oifits as a package)\n",
    "import sys\n",
    "sys.path.append('..') "
   ]
  },
  {
   "cell_type": "markdown",
   "metadata": {},
   "source": [
    "We import the oifits module and open sample OIFITS files."
   ]
  },
  {
   "cell_type": "code",
   "execution_count": 2,
   "metadata": {},
   "outputs": [],
   "source": [
    "import pyoifits as oifits\n",
    "\n",
    "# OIFITS version 2 from GRAVITY @ VLTI\n",
    "gravity = oifits.open('test1.fits')\n",
    "# OIFITS version 1 from PIONIER @ VLTI\n",
    "pionier = oifits.open('test2.fits')\n",
    "\n",
    "# The GRAVITY pipeline produces a non-standard OI_FLUX table, we fix that.\n",
    "for h in gravity[8::4]:\n",
    "    h.rename_columns(FLUX='FLUXDATA')"
   ]
  },
  {
   "cell_type": "markdown",
   "metadata": {},
   "source": [
    "Verify the compliance to the standard and fix mendable issues."
   ]
  },
  {
   "cell_type": "code",
   "execution_count": 3,
   "metadata": {},
   "outputs": [
    {
     "name": "stderr",
     "output_type": "stream",
     "text": [
      "WARNING: VerifyWarning: Verification reported errors: [astropy.io.fits.verify]\n",
      "WARNING: VerifyWarning: HDU 1: [astropy.io.fits.verify]\n",
      "WARNING: VerifyWarning:     Column TEL_NAME: type must be 8-bytes string but is 3-bytes string.  Will try to fix. [astropy.io.fits.verify]\n",
      "WARNING: VerifyWarning:     Column TEL_NAME: unit must be None but is None.  Fixed. [astropy.io.fits.verify]\n",
      "WARNING: VerifyWarning:     Column STA_NAME: type must be 8-bytes string but is 2-bytes string.  Will try to fix. [astropy.io.fits.verify]\n",
      "WARNING: VerifyWarning:     Column STA_NAME: unit must be None but is None.  Fixed. [astropy.io.fits.verify]\n",
      "WARNING: VerifyWarning:     Column STA_INDEX: unit must be None but is None.  Fixed. [astropy.io.fits.verify]\n",
      "WARNING: VerifyWarning:     Column name(s) should start with prefix_ :''MNTSTA''.  NS_ has been prefixed to column name(s) [astropy.io.fits.verify]\n",
      "WARNING: VerifyWarning: HDU 2: [astropy.io.fits.verify]\n",
      "WARNING: VerifyWarning:     Column TARGET_ID: unit must be None but is None.  Fixed. [astropy.io.fits.verify]\n",
      "WARNING: VerifyWarning:     Column VELTYP: type must be 8-bytes string but is 7-bytes string.  Will try to fix. [astropy.io.fits.verify]\n",
      "WARNING: VerifyWarning:     Column VELTYP: unit must be None but is None.  Fixed. [astropy.io.fits.verify]\n",
      "WARNING: VerifyWarning:     Column VELDEF: type must be 8-bytes string but is 7-bytes string.  Will try to fix. [astropy.io.fits.verify]\n",
      "WARNING: VerifyWarning:     Column VELDEF: unit must be None but is None.  Fixed. [astropy.io.fits.verify]\n",
      "WARNING: VerifyWarning:     Column TARGET: type must be 32-bytes string but is 8-bytes string.  Will try to fix. [astropy.io.fits.verify]\n",
      "WARNING: VerifyWarning:     Column TARGET: unit must be None but is None.  Fixed. [astropy.io.fits.verify]\n",
      "WARNING: VerifyWarning:     Column SPECTYP: type must be 32-bytes string but is 7-bytes string.  Will try to fix. [astropy.io.fits.verify]\n",
      "WARNING: VerifyWarning:     Column SPECTYP: unit must be None but is None.  Fixed. [astropy.io.fits.verify]\n",
      "WARNING: VerifyWarning: HDU 5: [astropy.io.fits.verify]\n",
      "WARNING: VerifyWarning:     Column FLAG: unit must be None but is None.  Fixed. [astropy.io.fits.verify]\n",
      "WARNING: VerifyWarning:     Column VISAMP: unit must be None but is None.  Fixed. [astropy.io.fits.verify]\n",
      "WARNING: VerifyWarning:     Column VISAMPERR: unit must be None but is None.  Fixed. [astropy.io.fits.verify]\n",
      "WARNING: VerifyWarning:     Column VISPHI: unit must be None but is deg.  Fixed. [astropy.io.fits.verify]\n",
      "WARNING: VerifyWarning:     Column VISPHIERR: unit must be None but is deg.  Fixed. [astropy.io.fits.verify]\n",
      "WARNING: VerifyWarning:     Column RVIS: unit must be None but is e.  Fixed. [astropy.io.fits.verify]\n",
      "WARNING: VerifyWarning:     Column RVISERR: unit must be None but is e.  Fixed. [astropy.io.fits.verify]\n",
      "WARNING: VerifyWarning:     Column IVIS: unit must be None but is e.  Fixed. [astropy.io.fits.verify]\n",
      "WARNING: VerifyWarning:     Column IVISERR: unit must be None but is e.  Fixed. [astropy.io.fits.verify]\n",
      "WARNING: VerifyWarning:     Column name(s) should start with prefix_ :''VISDATA', 'VISERR', 'NDIT', 'NVALID''.  NS_ has been prefixed to column name(s) [astropy.io.fits.verify]\n",
      "WARNING: VerifyWarning: HDU 6: [astropy.io.fits.verify]\n",
      "WARNING: VerifyWarning:     Column VIS2DATA: unit must be None but is None.  Fixed. [astropy.io.fits.verify]\n",
      "WARNING: VerifyWarning:     Column VIS2ERR: unit must be None but is None.  Fixed. [astropy.io.fits.verify]\n",
      "WARNING: VerifyWarning:     Column name(s) should start with prefix_ :''NDIT', 'NVALID''.  NS_ has been prefixed to column name(s) [astropy.io.fits.verify]\n",
      "WARNING: VerifyWarning: HDU 7: [astropy.io.fits.verify]\n",
      "WARNING: VerifyWarning:     Column T3AMP: unit must be None but is None.  Fixed. [astropy.io.fits.verify]\n",
      "WARNING: VerifyWarning:     Column T3AMPERR: unit must be None but is None.  Fixed. [astropy.io.fits.verify]\n",
      "WARNING: VerifyWarning: HDU 8: [astropy.io.fits.verify]\n",
      "WARNING: VerifyWarning:     Column name(s) should start with prefix_ :''VISDATA', 'VISERR', 'NDIT', 'NVALID', 'GDELAY', 'PHASE''.  NS_ has been prefixed to column name(s) [astropy.io.fits.verify]\n",
      "WARNING: VerifyWarning: HDU 9: [astropy.io.fits.verify]\n",
      "WARNING: VerifyWarning: HDU 10: [astropy.io.fits.verify]\n",
      "WARNING: VerifyWarning: Note: astropy.io.fits uses zero-based indexing.\n",
      " [astropy.io.fits.verify]\n",
      "WARNING: VerifyWarning:     Column EQUINOX: unit must be yr but is year.  Fixed. [astropy.io.fits.verify]\n",
      "WARNING: VerifyWarning:     Column PMRA: unit must be deg/yr but is deg/year.  Fixed. [astropy.io.fits.verify]\n",
      "WARNING: VerifyWarning:     Column PMDEC: unit must be deg/yr but is deg/year.  Fixed. [astropy.io.fits.verify]\n",
      "WARNING: VerifyWarning:     Column PMRA_ERR: unit must be deg/yr but is deg/year.  Fixed. [astropy.io.fits.verify]\n",
      "WARNING: VerifyWarning:     Column PMDEC_ERR: unit must be deg/yr but is deg/year.  Fixed. [astropy.io.fits.verify]\n",
      "WARNING: VerifyWarning:     Column TARGET: type must be 16-bytes string but is 6-bytes string.  Will try to fix. [astropy.io.fits.verify]\n",
      "WARNING: VerifyWarning:     Column SPECTYP: type must be 16-bytes string but is 1-byte string.  Will try to fix. [astropy.io.fits.verify]\n",
      "WARNING: VerifyWarning: HDU 3: [astropy.io.fits.verify]\n",
      "WARNING: VerifyWarning: HDU 4: [astropy.io.fits.verify]\n",
      "WARNING: VerifyWarning:     Column MJD: unit must be d but is day.  Fixed. [astropy.io.fits.verify]\n",
      "WARNING: VerifyWarning:     Column INT_TIME: unit must be s but is sec.  Fixed. [astropy.io.fits.verify]\n",
      "WARNING: VerifyWarning:     Column TIME: unit must be s but is sec.  Fixed. [astropy.io.fits.verify]\n"
     ]
    }
   ],
   "source": [
    "gravity.verify('fix+warn')\n",
    "pionier.verify('fix+warn')"
   ]
  },
  {
   "cell_type": "markdown",
   "metadata": {},
   "source": [
    "The OIFITS instances print nicely, indicating extensions with the data dimension."
   ]
  },
  {
   "cell_type": "code",
   "execution_count": 4,
   "metadata": {},
   "outputs": [
    {
     "data": {
      "text/plain": [
       "<OIFITS2 at 0x7fb9bcb70950: <PrimaryHDU2 (void)> <ArrayHDU2 (6C×4R)> <TargetHDU2 (17C×2R)> <WavelengthHDU2 (2C×210R=210W)> <WavelengthHDU2 (2C×5R=5W)> <VisHDU2 (20C×6R×5W)> <Vis2HDU2 (12C×6R×5W)> <T3HDU2 (16C×4R×5W)> <FluxHDU1 (10C×4R×5W)> <VisHDU2 (29C×6R×210W)> <Vis2HDU2 (12C×6R×210W)> <T3HDU2 (16C×4R×210W)> <FluxHDU1 (15C×4R×210W)>>"
      ]
     },
     "execution_count": 4,
     "metadata": {},
     "output_type": "execute_result"
    }
   ],
   "source": [
    "gravity"
   ]
  },
  {
   "cell_type": "code",
   "execution_count": 5,
   "metadata": {},
   "outputs": [
    {
     "data": {
      "text/plain": [
       "<OIFITS1 at 0x7fb9bd30eb80: <PrimaryHDU1 (void)> <TargetHDU1 (17C×1R)> <WavelengthHDU1 (2C×3R=3W)> <ArrayHDU1 (5C×4R)> <Vis2HDU1 (10C×5R×3W)> <T3HDU1 (14C×4R×3W)>>"
      ]
     },
     "execution_count": 5,
     "metadata": {},
     "output_type": "execute_result"
    }
   ],
   "source": [
    "pionier"
   ]
  },
  {
   "cell_type": "markdown",
   "metadata": {},
   "source": [
    "OIFITS files can be merged easily.  Reindexing of extensions and target/station indices are taken care of."
   ]
  },
  {
   "cell_type": "code",
   "execution_count": 6,
   "metadata": {},
   "outputs": [
    {
     "data": {
      "text/plain": [
       "<OIFITS2 at 0x7fb9bc9afea0: <PrimaryHDU2 (void)> <TargetHDU2 (17C×3R)> <ArrayHDU2 (6C×7R)> <WavelengthHDU2 (2C×5R=5W)> <WavelengthHDU2 (2C×210R=210W)> <WavelengthHDU1 (2C×3R=3W)> <VisHDU2 (20C×6R×5W)> <VisHDU2 (29C×6R×210W)> <Vis2HDU2 (12C×6R×5W)> <Vis2HDU2 (12C×6R×210W)> <Vis2HDU1 (10C×5R×3W)> <T3HDU2 (16C×4R×5W)> <T3HDU2 (16C×4R×210W)> <T3HDU1 (14C×4R×3W)> <FluxHDU1 (10C×4R×5W)> <FluxHDU1 (15C×4R×210W)>>"
      ]
     },
     "execution_count": 6,
     "metadata": {},
     "output_type": "execute_result"
    }
   ],
   "source": [
    "# we merge arrays and stations of the same name, not caring about their exact\n",
    "# coordinates. Reason: PIONIER sets them to zero but we know both PIONIER and \n",
    "# GRAVITY name the stations correctly.\n",
    "oifits.set_merge_settings(array_distance=1e+9, station_distance=1e+9)\n",
    "merged = gravity + pionier\n",
    "merged"
   ]
  },
  {
   "cell_type": "code",
   "execution_count": 7,
   "metadata": {},
   "outputs": [
    {
     "data": {
      "text/plain": [
       "SIMPLE  =                    T / file does conform to FITS standard             \n",
       "BITPIX  =                    8 / array data type                                \n",
       "NAXIS   =                    0 / number of data axes                            \n",
       "EXTEND  =                    T / FITS dataset may contain extensions            \n",
       "COMMENT   FITS (Flexible Image Transport System) format is defined in 'Astronomy\n",
       "COMMENT   and Astrophysics', volume 376, page 359; bibcode: 2001A&A...376..359H \n",
       "DATE    = '2020-07-02T19:52:50' / file creation date (YYYY-MM-DDThh:mm:ss UT)   \n",
       "DATE-OBS= '2012-12-21T04:12:03.022' / Observing date                            \n",
       "CONTENT = 'OIFITS2 '                                                            \n",
       "REFERENC= 'MULTI   '                                                            \n",
       "OBSERVER= 'UNKNOWN '           / Name of observer.                              \n",
       "PROG_ID = 'MULTI   '                                                            \n",
       "PROCSOFT= 'MULTI   '                                                            \n",
       "OBJECT  = 'MULTI   '           / Original target.                               \n",
       "INSMODE = 'MULTI   '                                                            \n",
       "ORIGIN  = 'ESO-PARANAL'        / European Southern Observatory                  \n",
       "TELESCOP= 'VLTI    '           / ESO <TEL>                                      \n",
       "INSTRUME= 'MULTI   '           / Instrument used.                               \n",
       "PI-COI  = 'UNKNOWN '           / PI-COI name.                                   "
      ]
     },
     "execution_count": 7,
     "metadata": {},
     "output_type": "execute_result"
    }
   ],
   "source": [
    "merged[0].header[0:19]"
   ]
  },
  {
   "cell_type": "markdown",
   "metadata": {},
   "source": [
    "One of the problems of the OIFITS standard is how complicated the data structure is, with a lot of cross-references.  It is possible to obtain the data in a flat table, listing one single scalar observable per line together to all relevant parameters such as target, date, wavelength, band, baseline(s)."
   ]
  },
  {
   "cell_type": "code",
   "execution_count": 8,
   "metadata": {},
   "outputs": [
    {
     "name": "stdout",
     "output_type": "stream",
     "text": [
      " TARGET    EFF_WAVE    EFF_BAND  U1COORD ... observable  value    error  \n",
      "-------- ----------- ----------- ------- ... ---------- ------- ---------\n",
      "CO_Ori_A 2.02369e-06 8.50000e-08   5.488 ...     VISAMP 0.84688 0.0041681\n",
      "CO_Ori_A 2.09294e-06 8.50000e-08   5.488 ...     VISAMP 0.94783 0.0019325\n",
      "CO_Ori_A 2.19100e-06 8.50000e-08   5.488 ...     VISAMP 0.97285   0.00123\n",
      "CO_Ori_A 2.29188e-06 8.50000e-08   5.488 ...     VISAMP  0.9789 0.0017413\n",
      "CO_Ori_A 2.36233e-06 8.50000e-08   5.488 ...     VISAMP 0.96522 0.0013306\n",
      "CO_Ori_A 2.02369e-06 8.50000e-08  -2.729 ...     VISAMP 0.72994 0.0063785\n",
      "CO_Ori_A 2.09294e-06 8.50000e-08  -2.729 ...     VISAMP 0.80576 0.0026422\n",
      "CO_Ori_A 2.19100e-06 8.50000e-08  -2.729 ...     VISAMP 0.86026 0.0021998\n",
      "CO_Ori_A 2.29188e-06 8.50000e-08  -2.729 ...     VISAMP 0.89297 0.0013147\n",
      "CO_Ori_A 2.36233e-06 8.50000e-08  -2.729 ...     VISAMP 0.92514 0.0019255\n",
      "     ...         ...         ...     ... ...        ...     ...       ...\n",
      "CO_Ori_B 2.42799e-06 4.40191e-09      -- ...   FLUXDATA  4133.4    252.01\n",
      "CO_Ori_B 2.43019e-06 4.40191e-09      -- ...   FLUXDATA    4556    189.55\n",
      "CO_Ori_B 2.43239e-06 4.40191e-09      -- ...   FLUXDATA  3818.2    236.74\n",
      "CO_Ori_B 2.43459e-06 4.40191e-09      -- ...   FLUXDATA  3291.1     150.2\n",
      "CO_Ori_B 2.43679e-06 4.40191e-09      -- ...   FLUXDATA  2955.2    245.56\n",
      "CO_Ori_B 2.43900e-06 4.40191e-09      -- ...   FLUXDATA  4231.8     247.2\n",
      "CO_Ori_B 2.44120e-06 4.40191e-09      -- ...   FLUXDATA  3596.4    226.42\n",
      "CO_Ori_B 2.44340e-06 4.40191e-09      -- ...   FLUXDATA  3653.5     273.6\n",
      "CO_Ori_B 2.44560e-06 4.40191e-09      -- ...   FLUXDATA  3282.7     192.7\n",
      "CO_Ori_B 2.44780e-06 4.40191e-09      -- ...   FLUXDATA    3037    250.84\n",
      "CO_Ori_B 2.45000e-06 4.40191e-09      -- ...   FLUXDATA  3098.7    146.92\n",
      "Length = 9069 rows\n"
     ]
    }
   ],
   "source": [
    "tab = merged.to_table()\n",
    "print(tab['TARGET','EFF_WAVE','EFF_BAND','U1COORD','V1COORD','U2COORD','V2COORD','observable','value','error'])"
   ]
  }
 ],
 "metadata": {
  "kernelspec": {
   "display_name": "Python 3",
   "language": "python",
   "name": "python3"
  },
  "language_info": {
   "codemirror_mode": {
    "name": "ipython",
    "version": 3
   },
   "file_extension": ".py",
   "mimetype": "text/x-python",
   "name": "python",
   "nbconvert_exporter": "python",
   "pygments_lexer": "ipython3",
   "version": "3.8.2"
  }
 },
 "nbformat": 4,
 "nbformat_minor": 4
}
